{
 "cells": [
  {
   "cell_type": "markdown",
   "id": "0",
   "metadata": {},
   "source": [
    "# 04a - Challenge 1 (optional)"
   ]
  },
  {
   "cell_type": "markdown",
   "id": "406bb7a4-0927-4915-b775-ed36a9463377",
   "metadata": {},
   "source": [
    "Welcome to this challenge lab! Use this notebook to guide you in building a solution to address the following challenge.\n",
    "\n",
    "**Challenge:** Load the featurizer and credit risk models which you registered in the MLFlow model registry (in the previous lab), and use them to perform pre-processing and make predictions for some sample input data."
   ]
  },
  {
   "cell_type": "markdown",
   "id": "c38a74a2",
   "metadata": {},
   "source": [
    "### 1. Set up environment\n",
    "\n",
    "Restore variables"
   ]
  },
  {
   "cell_type": "code",
   "execution_count": null,
   "id": "92c978bc",
   "metadata": {},
   "outputs": [],
   "source": [
    "%store -r train_data_path test_data_path\n",
    "%store -r bucket_name model_prefix model_artifact\n",
    "%store -r role\n",
    "\n",
    "# Retrieve the mflow tracking server from the previous lab\n",
    "%store -r mlflow_arn\n",
    "\n",
    "# Retrieve the logged MLFlow model objects from the previous lab\n",
    "%store -r logged_featurizer_model logged_creditrisk_model"
   ]
  },
  {
   "cell_type": "markdown",
   "id": "07475de0",
   "metadata": {},
   "source": [
    "Import the necessary libraries:"
   ]
  },
  {
   "cell_type": "code",
   "execution_count": null,
   "id": "d3d67713-589e-4c3e-aebd-8ee1817f36ae",
   "metadata": {},
   "outputs": [],
   "source": [
    "import boto3\n",
    "import mlflow\n",
    "import xgboost\n",
    "import pandas as pd\n",
    "from time import gmtime, strftime"
   ]
  },
  {
   "cell_type": "markdown",
   "id": "d2ed500a",
   "metadata": {},
   "source": [
    "Set the MLFlow tracking server"
   ]
  },
  {
   "cell_type": "code",
   "execution_count": null,
   "id": "0e2e34ae",
   "metadata": {},
   "outputs": [],
   "source": [
    "# Set the MLFlow tracking server\n",
    "\n",
    "mlflow.set_tracking_uri(mlflow_arn)"
   ]
  },
  {
   "cell_type": "markdown",
   "id": "b50079a9",
   "metadata": {},
   "source": [
    "### 2. Load the featurizer model from the MLFlow model registry"
   ]
  },
  {
   "cell_type": "markdown",
   "id": "136ec50f",
   "metadata": {},
   "source": [
    "You have imported the stored value `logged_featurizer_model` from the previous lab. This contains an MLFlow object of class ModelInfo. Use the [ModelInfo documentation](https://mlflow.org/docs/latest/api_reference/python_api/mlflow.models.html#mlflow.models.model.ModelInfo) to figure out how to obtain the model URI for this model.\n",
    "\n",
    "Use this model URI to load the sklearn featurizer model from the MLFlow model registry. For guidance, see the [MLFlow sklearn load_model() docs](https://mlflow.org/docs/latest/api_reference/python_api/mlflow.sklearn.html#mlflow.sklearn.load_model). Alternatively, use the MLFlow console from SageMaker Studio to navigate to this model, and view the model code examples.\n",
    "\n",
    "Insert your code here:"
   ]
  },
  {
   "cell_type": "code",
   "execution_count": null,
   "id": "1f532485",
   "metadata": {},
   "outputs": [],
   "source": [
    "# Load featurizer sklearn model from MLFlow model registry\n",
    "\n",
    "featurizer_model = "
   ]
  },
  {
   "cell_type": "markdown",
   "id": "08f86e12",
   "metadata": {},
   "source": [
    "Uncomment and run the below to see the solution:"
   ]
  },
  {
   "cell_type": "code",
   "execution_count": null,
   "id": "3c621bbd",
   "metadata": {},
   "outputs": [],
   "source": [
    "# %load solutions/4a_s2.py"
   ]
  },
  {
   "cell_type": "markdown",
   "id": "cbbceaac",
   "metadata": {},
   "source": [
    "### 3. Pre-process input data\n",
    "\n",
    "Define a function to pre-process the input data. This should receive a dataframe with the input data, and the featurizer mode to use. The output should be a dataframe with the pre-processed data.\n",
    "\n",
    "Refer back to notebook 2 to recall how the data needs to be pre-processed.\n",
    "\n",
    "Insert your code here:"
   ]
  },
  {
   "cell_type": "code",
   "execution_count": null,
   "id": "58389fde",
   "metadata": {},
   "outputs": [],
   "source": [
    "# Pre-process the input\n",
    "\n",
    "def preprocess(df, featurizer_model):\n"
   ]
  },
  {
   "cell_type": "markdown",
   "id": "35284db5",
   "metadata": {},
   "source": [
    "Uncomment and run the below to see the solution:"
   ]
  },
  {
   "cell_type": "code",
   "execution_count": null,
   "id": "fe10243f",
   "metadata": {},
   "outputs": [],
   "source": [
    "# %load solutions/4a_s3.py"
   ]
  },
  {
   "cell_type": "markdown",
   "id": "41ffd5e2",
   "metadata": {},
   "source": [
    "Test your function to pre-process the input data as follows:"
   ]
  },
  {
   "cell_type": "code",
   "execution_count": null,
   "id": "bc15df11",
   "metadata": {},
   "outputs": [],
   "source": [
    "# retrieve the input data\n",
    "df1 = pd.read_csv('inference.csv')\n",
    "csv_data = df1.to_csv(index=False, header=False)\n",
    "\n",
    "# preprocess the data\n",
    "payload_input = preprocess(df1,featurizer_model)\n",
    "print (payload_input)\n",
    "print(\"Number of samples in the payload:\",len(payload_input))"
   ]
  },
  {
   "cell_type": "markdown",
   "id": "1c9923d0",
   "metadata": {},
   "source": [
    "### 4. Load the XGBoost credit risk model from the MLFlow model registry\n",
    "\n",
    "You have imported the stored value `logged_creditrisk_model` from the previous lab. This contains an MLFlow object of class ModelInfo. Use the [ModelInfo documentation](https://mlflow.org/docs/latest/api_reference/python_api/mlflow.models.html#mlflow.models.model.ModelInfo) to figure out how to obtain the model URI for this model.\n",
    "\n",
    "Use this model URI to load the xgboost featurizer model from the MLFlow model registry. For guidance, see the [MLFlow xgboost load_model() docs](https://mlflow.org/docs/latest/api_reference/python_api/mlflow.xgboost.html). \n",
    "\n",
    "Insert your code here:"
   ]
  },
  {
   "cell_type": "code",
   "execution_count": null,
   "id": "c3b17717",
   "metadata": {},
   "outputs": [],
   "source": [
    "# Load xgboost model from MLFlow model registry\n",
    "\n",
    "creditrisk_model ="
   ]
  },
  {
   "cell_type": "markdown",
   "id": "29da3708",
   "metadata": {},
   "source": [
    "Uncomment and run the below to see the solution:"
   ]
  },
  {
   "cell_type": "code",
   "execution_count": null,
   "id": "2063c99f",
   "metadata": {},
   "outputs": [],
   "source": [
    "# %load solutions/4a_s4.py"
   ]
  },
  {
   "cell_type": "markdown",
   "id": "d85a57be",
   "metadata": {},
   "source": [
    "### 5. Use the credit risk model with the pre-processed input data to predict credit risk scoress\n",
    "\n",
    "In the final step, use the credit risk model to predict credit risk scores for the pre-processed input data.\n",
    "\n",
    "Insert your code here:"
   ]
  },
  {
   "cell_type": "code",
   "execution_count": null,
   "id": "8b8969db",
   "metadata": {},
   "outputs": [],
   "source": [
    "# Run predictions on the pre-processed payload\n",
    "\n",
    "predictions =\n",
    "predictions"
   ]
  },
  {
   "cell_type": "markdown",
   "id": "0e72f4ce",
   "metadata": {},
   "source": [
    "Uncomment and run the below to see the solution:"
   ]
  },
  {
   "cell_type": "code",
   "execution_count": null,
   "id": "20e134aa",
   "metadata": {
    "vscode": {
     "languageId": "plaintext"
    }
   },
   "outputs": [],
   "source": [
    "# %load solutions/4a_s5.py"
   ]
  }
 ],
 "metadata": {
  "kernelspec": {
   "display_name": "Python 3 (ipykernel)",
   "language": "python",
   "name": "python3"
  },
  "language_info": {
   "codemirror_mode": {
    "name": "ipython",
    "version": 3
   },
   "file_extension": ".py",
   "mimetype": "text/x-python",
   "name": "python",
   "nbconvert_exporter": "python",
   "pygments_lexer": "ipython3",
   "version": "3.11.11"
  }
 },
 "nbformat": 4,
 "nbformat_minor": 5
}
