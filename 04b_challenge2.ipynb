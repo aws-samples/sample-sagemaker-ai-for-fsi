{
 "cells": [
  {
   "cell_type": "markdown",
   "id": "0",
   "metadata": {},
   "source": [
    "# 04b - Challenge 2"
   ]
  },
  {
   "cell_type": "markdown",
   "id": "406bb7a4-0927-4915-b775-ed36a9463377",
   "metadata": {},
   "source": [
    "Welcome to this challenge lab! Use this notebook to guide you in building a solution to address the following challenge.\n",
    "\n",
    "**Challenge:** Deploy the credit risk model from the SageMaker Model Registry using the console. Once done, use this notebook to make real-time predictions."
   ]
  },
  {
   "cell_type": "markdown",
   "id": "c38a74a2",
   "metadata": {},
   "source": [
    "### 1. Set up environment\n",
    "\n",
    "Restore variables"
   ]
  },
  {
   "cell_type": "code",
   "execution_count": null,
   "id": "92c978bc",
   "metadata": {},
   "outputs": [],
   "source": [
    "%store -r train_data_path test_data_path\n",
    "%store -r bucket_name model_prefix model_artifact\n",
    "%store -r featurizer_model_dir\n",
    "%store -r role"
   ]
  },
  {
   "cell_type": "markdown",
   "id": "07475de0",
   "metadata": {},
   "source": [
    "Import the necessary libraries:"
   ]
  },
  {
   "cell_type": "code",
   "execution_count": null,
   "id": "d3d67713-589e-4c3e-aebd-8ee1817f36ae",
   "metadata": {},
   "outputs": [],
   "source": [
    "import pandas as pd\n",
    "from time import gmtime, strftime"
   ]
  },
  {
   "cell_type": "markdown",
   "id": "b50079a9",
   "metadata": {},
   "source": [
    "### 2. Pre-process input data locally"
   ]
  },
  {
   "cell_type": "markdown",
   "id": "136ec50f",
   "metadata": {},
   "source": [
    "Before we can send the new data to the model and generate predictions, we need to perform some data transformations to ensure it is in the format the ML model is expecting. For that, we will use the featurizer model we trained in notebook 01."
   ]
  },
  {
   "cell_type": "code",
   "execution_count": null,
   "id": "3c621bbd",
   "metadata": {},
   "outputs": [],
   "source": [
    "import warnings\n",
    "import numpy as np\n",
    "import joblib\n",
    "import os\n",
    "import joblib\n",
    "\n",
    "from sklearn.model_selection import train_test_split\n",
    "from sklearn.preprocessing import OneHotEncoder, LabelEncoder\n",
    "from sklearn.compose import make_column_transformer\n",
    "\n",
    "from sklearn.exceptions import DataConversionWarning\n",
    "\n",
    "def preprocess(df, featurizer_model):\n",
    "    try:\n",
    "        print(\"Preparing features and labels\")\n",
    "        X = df.drop(\"credit_risk\", axis=1,errors='ignore')\n",
    "\n",
    "        with (open(f\"{featurizer_model}/model.joblib\", \"rb\")) as openfile:\n",
    "            featurizer_model = joblib.load(openfile)\n",
    "            \n",
    "        print(\"Retrieving the scikit-learn transformer\",type(featurizer_model))\n",
    "        X_test = featurizer_model.transform(X)\n",
    "        print(f\"Train features shape after preprocessing: {X_test.shape}\")\n",
    "        \n",
    "        return X_test\n",
    "        \n",
    "    except Exception as e:\n",
    "        print(f\"Exception in processing script: {e}\")\n",
    "        raise e"
   ]
  },
  {
   "cell_type": "code",
   "execution_count": null,
   "id": "27e0058b",
   "metadata": {},
   "outputs": [],
   "source": [
    "# Prepare input data\n",
    "\n",
    "payload_df = pd.read_csv(\"./input/test_data.csv\")\n",
    "realtime_inference_test = payload_df.sample(n=4)\n",
    "realtime_inference_test.to_csv(\"inference.csv\", index=False)\n",
    "\n",
    "# retrieve the samples data\n",
    "df1 = pd.read_csv('inference.csv')\n",
    "# Convert to CSV string\n",
    "csv_data = df1.to_csv(index=False, header=False)\n",
    "\n",
    "payload_input = preprocess(df1,featurizer_model_dir)\n",
    "print (payload_input)\n",
    "print(\"Number of samples in the payload:\",len(payload_input))"
   ]
  },
  {
   "cell_type": "markdown",
   "id": "cbbceaac",
   "metadata": {},
   "source": [
    "### 3. Locate the model endpoint\n",
    "\n",
    "Copy your endpoint name and model here:"
   ]
  },
  {
   "cell_type": "code",
   "execution_count": null,
   "id": "58389fde",
   "metadata": {},
   "outputs": [],
   "source": [
    "endpoint_name = \"\"   # Copy the endpoint name here\n",
    "component_name = \"\"  # Copy the model name from the endpoint details screen here"
   ]
  },
  {
   "cell_type": "markdown",
   "id": "35284db5",
   "metadata": {},
   "source": [
    "### 4. Create a Predictor object\n",
    "\n",
    "Using the SageMaker SDK, create a Predictor object using the located endpoint and component names.\n",
    "\n",
    "Insert your code here:"
   ]
  },
  {
   "cell_type": "code",
   "execution_count": null,
   "id": "fe10243f",
   "metadata": {},
   "outputs": [],
   "source": [
    "from sagemaker.predictor import Predictor\n",
    "from sagemaker.serializers import CSVSerializer\n",
    "\n",
    "# Create predictor\n",
    "predictor = "
   ]
  },
  {
   "cell_type": "markdown",
   "id": "6781da94",
   "metadata": {},
   "source": [
    "Uncomment and run the below to see the solution:"
   ]
  },
  {
   "cell_type": "code",
   "execution_count": null,
   "id": "1b6ead7d",
   "metadata": {},
   "outputs": [],
   "source": [
    "# %load solutions/4b_s4.py"
   ]
  },
  {
   "cell_type": "markdown",
   "id": "a926a431",
   "metadata": {},
   "source": [
    "### 5. Use the Predictor for inference\n",
    "\n",
    "Use the Predictor object to obtain inferences for the data in `payload_input`.\n",
    "\n",
    "Insert your code here:"
   ]
  },
  {
   "cell_type": "code",
   "execution_count": null,
   "id": "0bf9de25",
   "metadata": {},
   "outputs": [],
   "source": [
    "response =\n",
    "\n",
    "response"
   ]
  },
  {
   "cell_type": "markdown",
   "id": "de62354f",
   "metadata": {},
   "source": [
    "Uncomment and run the below to see the solution:"
   ]
  },
  {
   "cell_type": "code",
   "execution_count": null,
   "id": "07bb0a1b",
   "metadata": {},
   "outputs": [],
   "source": [
    "# %load solutions/4b_s5.py"
   ]
  }
 ],
 "metadata": {
  "kernelspec": {
   "display_name": "Python 3 (ipykernel)",
   "language": "python",
   "name": "python3"
  },
  "language_info": {
   "codemirror_mode": {
    "name": "ipython",
    "version": 3
   },
   "file_extension": ".py",
   "mimetype": "text/x-python",
   "name": "python",
   "nbconvert_exporter": "python",
   "pygments_lexer": "ipython3",
   "version": "3.11.11"
  }
 },
 "nbformat": 4,
 "nbformat_minor": 5
}
